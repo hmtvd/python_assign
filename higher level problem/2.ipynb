{
 "cells": [
  {
   "cell_type": "markdown",
   "metadata": {},
   "source": [
    "2.Given a list of numbers, find out the median and mode."
   ]
  },
  {
   "cell_type": "code",
   "execution_count": 4,
   "metadata": {},
   "outputs": [
    {
     "name": "stdout",
     "output_type": "stream",
     "text": [
      "[1, 2, 2, 4, 6, 6, 6, 8, 44]\n",
      "6\n",
      "{1: 1, 2: 2, 4: 1, 6: 3, 8: 1, 44: 1}\n",
      "6\n"
     ]
    }
   ],
   "source": [
    "#for median\n",
    "list1=[2,4,1,44,6,6,6,8,2]                               #given list of numbers         \n",
    "list1.sort()                                             #for arrangeing list in ascending order\n",
    "print(list1)  \n",
    "if len(list1)%2!=0:                                      #if total numbers are odd\n",
    "    median=list1[len(list1)//2]                          #median is middle\n",
    "else:\n",
    "    median=(list1[len(list1)//2-1]+list1[len(list1)//2])/2  #if total numbers are even than average of both is median\n",
    "print(median)\n",
    "#for mode\n",
    "dict1={}                                  \n",
    "for i in list1:                            \n",
    "    a=0                                    \n",
    "    for x in range(len(list1)):            #using for loop \n",
    "        if i==list1[x]:                    #check for same no.\n",
    "            a+=1                          \n",
    "    dict1[i]=a                             \n",
    "print(dict1)                               #dict1 is dictionary\n",
    "p=0                                       \n",
    "for key,value in dict1.items():            \n",
    "    if value>p:                            #check for maximum value \n",
    "        p=value                           \n",
    "        mode1=key                          #key which have max frequency\n",
    "print(mode1)                               # mode1 is mode of this list"
   ]
  },
  {
   "cell_type": "code",
   "execution_count": null,
   "metadata": {},
   "outputs": [],
   "source": []
  }
 ],
 "metadata": {
  "kernelspec": {
   "display_name": "Python 3",
   "language": "python",
   "name": "python3"
  },
  "language_info": {
   "codemirror_mode": {
    "name": "ipython",
    "version": 3
   },
   "file_extension": ".py",
   "mimetype": "text/x-python",
   "name": "python",
   "nbconvert_exporter": "python",
   "pygments_lexer": "ipython3",
   "version": "3.11.5"
  }
 },
 "nbformat": 4,
 "nbformat_minor": 2
}
