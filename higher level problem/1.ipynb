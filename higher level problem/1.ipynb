{
 "cells": [
  {
   "cell_type": "markdown",
   "metadata": {},
   "source": [
    "1.Given a list of numbers, sort it in ascending order."
   ]
  },
  {
   "cell_type": "code",
   "execution_count": 2,
   "metadata": {},
   "outputs": [
    {
     "name": "stdout",
     "output_type": "stream",
     "text": [
      "[9, 12, 19, 23, 29, 34, 47, 84, 98]\n"
     ]
    }
   ],
   "source": [
    "lst=[34,98,12,23,29,9,47,19,84]                # lst is list taken by user\n",
    "for i in range(len(lst)):                      # using for loop\n",
    "    for j in range(len(lst)):                  # running 2 loops so that a number is picked first then compared with others in list\n",
    "        if lst[i]<lst[j]:                      # though it seems in starting that here it is for descending but at last it is for ascending\n",
    "            n1=lst[i]\n",
    "            n2=lst[j]\n",
    "            lst[j]=n1\n",
    "            lst[i]=n2\n",
    "            \n",
    "print(lst)"
   ]
  },
  {
   "cell_type": "code",
   "execution_count": null,
   "metadata": {},
   "outputs": [],
   "source": []
  }
 ],
 "metadata": {
  "kernelspec": {
   "display_name": "Python 3",
   "language": "python",
   "name": "python3"
  },
  "language_info": {
   "codemirror_mode": {
    "name": "ipython",
    "version": 3
   },
   "file_extension": ".py",
   "mimetype": "text/x-python",
   "name": "python",
   "nbconvert_exporter": "python",
   "pygments_lexer": "ipython3",
   "version": "3.11.5"
  }
 },
 "nbformat": 4,
 "nbformat_minor": 2
}
