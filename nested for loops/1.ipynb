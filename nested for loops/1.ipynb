{
 "cells": [
  {
   "cell_type": "markdown",
   "metadata": {},
   "source": [
    "1. Given a list of positive integers, find the factorial of all the numbers."
   ]
  },
  {
   "cell_type": "code",
   "execution_count": 1,
   "metadata": {},
   "outputs": [
    {
     "name": "stdout",
     "output_type": "stream",
     "text": [
      "factorial of corresponding numbers are [24, 5040, 479001600, 1307674368000, 2, 120]\n"
     ]
    }
   ],
   "source": [
    "lst_1=[4,7,12,15,2,5]                 # list taken by user\n",
    "lst_fact=[]                          # list of factorial\n",
    "for i in lst_1:\n",
    "    fact=1\n",
    "    for j in range(1,i):\n",
    "        fact=fact*(j+1)\n",
    "    lst_fact.append(fact)\n",
    "print(\"factorial of corresponding numbers are\",lst_fact)\n",
    "    "
   ]
  },
  {
   "cell_type": "code",
   "execution_count": null,
   "metadata": {},
   "outputs": [],
   "source": []
  }
 ],
 "metadata": {
  "kernelspec": {
   "display_name": "Python 3",
   "language": "python",
   "name": "python3"
  },
  "language_info": {
   "codemirror_mode": {
    "name": "ipython",
    "version": 3
   },
   "file_extension": ".py",
   "mimetype": "text/x-python",
   "name": "python",
   "nbconvert_exporter": "python",
   "pygments_lexer": "ipython3",
   "version": "3.11.5"
  }
 },
 "nbformat": 4,
 "nbformat_minor": 2
}
