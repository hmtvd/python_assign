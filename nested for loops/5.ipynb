{
 "cells": [
  {
   "cell_type": "markdown",
   "metadata": {},
   "source": [
    "5. Given a positive integers, find out the sum of all prime numbers from 1 up to this number."
   ]
  },
  {
   "cell_type": "code",
   "execution_count": 1,
   "metadata": {},
   "outputs": [
    {
     "name": "stdout",
     "output_type": "stream",
     "text": [
      "sum of all prime nums till 15 is 41\n"
     ]
    }
   ],
   "source": [
    "num_1=int(input('enter a positive integer'))       # INPUT TAKEN BY USER\n",
    "sum_1=0\n",
    "for i in range(2,num_1+1):                         # USE nested for loop\n",
    "    c=0\n",
    "    sqr=int(i**0.5)                \n",
    "    for j in range(2,sqr+1):              \n",
    "        if i%j==0:\n",
    "            c+=1\n",
    "    if c==0:\n",
    "        sum_1+=i\n",
    "print('sum of all prime nums till',num_1,\"is\",sum_1)  # sum_1  sum of all prime no. "
   ]
  },
  {
   "cell_type": "code",
   "execution_count": null,
   "metadata": {},
   "outputs": [],
   "source": []
  }
 ],
 "metadata": {
  "kernelspec": {
   "display_name": "Python 3",
   "language": "python",
   "name": "python3"
  },
  "language_info": {
   "codemirror_mode": {
    "name": "ipython",
    "version": 3
   },
   "file_extension": ".py",
   "mimetype": "text/x-python",
   "name": "python",
   "nbconvert_exporter": "python",
   "pygments_lexer": "ipython3",
   "version": "3.11.5"
  }
 },
 "nbformat": 4,
 "nbformat_minor": 2
}
