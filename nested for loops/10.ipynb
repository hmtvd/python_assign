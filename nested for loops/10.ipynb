{
 "cells": [
  {
   "cell_type": "markdown",
   "metadata": {},
   "source": [
    "10. Given two 3x3 matrices with values stored in two lists of length 9, find their product."
   ]
  },
  {
   "cell_type": "code",
   "execution_count": 1,
   "metadata": {},
   "outputs": [
    {
     "name": "stdout",
     "output_type": "stream",
     "text": [
      "[[30, 36, 42], [66, 81, 96], [102, 126, 150]]\n"
     ]
    }
   ],
   "source": [
    "mat_1=[[1,2,3],[4,5,6],[7,8,9]]             # matrix taken by user\n",
    "mat_2=[[1,2,3],[4,5,6],[7,8,9]]\n",
    "mat_mul=[]\n",
    "for i in mat_1:                             # using nested for loop for product\n",
    "    a1=0\n",
    "    a2=0\n",
    "    a3=0\n",
    "    for j in range(len(mat_2)):\n",
    "        a2+=i[j]*mat_2[j][1]\n",
    "        a3+=i[j]*mat_2[j][2]\n",
    "        a1+=i[j]*mat_2[j][0]\n",
    "    mat_mul.append([a1,a2,a3])\n",
    "print(mat_mul)"
   ]
  },
  {
   "cell_type": "code",
   "execution_count": null,
   "metadata": {},
   "outputs": [],
   "source": []
  }
 ],
 "metadata": {
  "kernelspec": {
   "display_name": "Python 3",
   "language": "python",
   "name": "python3"
  },
  "language_info": {
   "codemirror_mode": {
    "name": "ipython",
    "version": 3
   },
   "file_extension": ".py",
   "mimetype": "text/x-python",
   "name": "python",
   "nbconvert_exporter": "python",
   "pygments_lexer": "ipython3",
   "version": "3.11.5"
  }
 },
 "nbformat": 4,
 "nbformat_minor": 2
}
