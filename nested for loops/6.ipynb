{
 "cells": [
  {
   "cell_type": "markdown",
   "metadata": {},
   "source": [
    "6. Given a list of numbers, find out how many times each number occurs in the list."
   ]
  },
  {
   "cell_type": "code",
   "execution_count": 2,
   "metadata": {},
   "outputs": [
    {
     "name": "stdout",
     "output_type": "stream",
     "text": [
      "[1, 2, 7, 3, 8, 72, 34, 62, 9, 6]\n",
      "number of ocuurences of 1  are  4\n",
      "number of ocuurences of 2  are  2\n",
      "number of ocuurences of 7  are  3\n",
      "number of ocuurences of 3  are  4\n",
      "number of ocuurences of 8  are  2\n",
      "number of ocuurences of 72  are  2\n",
      "number of ocuurences of 34  are  1\n",
      "number of ocuurences of 62  are  1\n",
      "number of ocuurences of 9  are  1\n",
      "number of ocuurences of 6  are  2\n"
     ]
    }
   ],
   "source": [
    "plist=[1,1,1,1,2,7,3,8,3,2,7,72,34,62,3,72,8,9,6,6,7,3]      # plist taken by user\n",
    "slist=[]                                                     # slist for no. whose occur many times\n",
    "for i in plist:                                              # use nested for loop\n",
    "        if i not in slist:\n",
    "            slist.append(i)\n",
    "print(slist)\n",
    "for j in slist:\n",
    "    a=0\n",
    "    for i in plist:\n",
    "        if j==i:\n",
    "            a+=1\n",
    "    print(\"number of ocuurences of\",j,\" are \", a)"
   ]
  },
  {
   "cell_type": "code",
   "execution_count": null,
   "metadata": {},
   "outputs": [],
   "source": []
  }
 ],
 "metadata": {
  "kernelspec": {
   "display_name": "Python 3",
   "language": "python",
   "name": "python3"
  },
  "language_info": {
   "codemirror_mode": {
    "name": "ipython",
    "version": 3
   },
   "file_extension": ".py",
   "mimetype": "text/x-python",
   "name": "python",
   "nbconvert_exporter": "python",
   "pygments_lexer": "ipython3",
   "version": "3.11.5"
  }
 },
 "nbformat": 4,
 "nbformat_minor": 2
}
