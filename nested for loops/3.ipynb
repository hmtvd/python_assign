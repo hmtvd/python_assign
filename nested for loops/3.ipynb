{
 "cells": [
  {
   "cell_type": "markdown",
   "metadata": {},
   "source": [
    "3. Given two numbers, find its Greatest Common Divisor (Divisor)."
   ]
  },
  {
   "cell_type": "code",
   "execution_count": 1,
   "metadata": {},
   "outputs": [
    {
     "name": "stdout",
     "output_type": "stream",
     "text": [
      "hcf of given numbers is 5\n"
     ]
    }
   ],
   "source": [
    "a=int(input(\"enter a positive integer\"))         # input taken by user\n",
    "b=int(input(\"enter a positive integer\"))\n",
    "if a<b:                                          # use condition\n",
    "    m=a\n",
    "else:                                  \n",
    "    m=b                   \n",
    "for i in range(1,m+1):                           # use for loop for hcf\n",
    "    if a%i == 0 and b%i == 0:\n",
    "        hcf=i\n",
    "print(\"hcf of given numbers is\",hcf)             # hcf is HCF of givenno."
   ]
  },
  {
   "cell_type": "code",
   "execution_count": null,
   "metadata": {},
   "outputs": [],
   "source": []
  }
 ],
 "metadata": {
  "kernelspec": {
   "display_name": "Python 3",
   "language": "python",
   "name": "python3"
  },
  "language_info": {
   "codemirror_mode": {
    "name": "ipython",
    "version": 3
   },
   "file_extension": ".py",
   "mimetype": "text/x-python",
   "name": "python",
   "nbconvert_exporter": "python",
   "pygments_lexer": "ipython3",
   "version": "3.11.5"
  }
 },
 "nbformat": 4,
 "nbformat_minor": 2
}
