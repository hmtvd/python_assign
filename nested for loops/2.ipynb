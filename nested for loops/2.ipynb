{
 "cells": [
  {
   "cell_type": "markdown",
   "metadata": {},
   "source": [
    "2. Given two numbers, find its Least Common Multiple (LCM)."
   ]
  },
  {
   "cell_type": "code",
   "execution_count": 1,
   "metadata": {},
   "outputs": [
    {
     "name": "stdout",
     "output_type": "stream",
     "text": [
      "lcm of given numbers is 4\n"
     ]
    }
   ],
   "source": [
    "a=int(input(\"enter a positive integer\"))              # input taken by user\n",
    "b=int(input(\"enter a positive integer\"))\n",
    "for i in range(a*b,max(a,b)-1,-1):                    # using nested for loop\n",
    "    if i%a == 0 and i%b == 0:\n",
    "        lcm=i\n",
    "print(\"lcm of given numbers is\",lcm)                  # lcm is LCM of given no."
   ]
  },
  {
   "cell_type": "code",
   "execution_count": null,
   "metadata": {},
   "outputs": [],
   "source": []
  }
 ],
 "metadata": {
  "kernelspec": {
   "display_name": "Python 3",
   "language": "python",
   "name": "python3"
  },
  "language_info": {
   "codemirror_mode": {
    "name": "ipython",
    "version": 3
   },
   "file_extension": ".py",
   "mimetype": "text/x-python",
   "name": "python",
   "nbconvert_exporter": "python",
   "pygments_lexer": "ipython3",
   "version": "3.11.5"
  }
 },
 "nbformat": 4,
 "nbformat_minor": 2
}
