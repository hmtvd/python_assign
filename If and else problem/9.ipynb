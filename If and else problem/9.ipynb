{
 "cells": [
  {
   "cell_type": "markdown",
   "metadata": {},
   "source": [
    "9. Given three points, find out whether they lie on the same straight line or not."
   ]
  },
  {
   "cell_type": "code",
   "execution_count": 3,
   "metadata": {},
   "outputs": [
    {
     "name": "stdout",
     "output_type": "stream",
     "text": [
      "(5.0, 5.0) (2.0, 5.0) (7.0, 8.0)\n",
      "they are not collinear\n"
     ]
    }
   ],
   "source": [
    "x1=float(input(\"enter x1\"))                      # input taken by user\n",
    "y1=float(input(\"enter y1\"))                      # input taken by user\n",
    "x2=float(input(\"enter x2\"))                      # input taken by user\n",
    "y2=float(input(\"enter y2\"))                      # input taken by user\n",
    "x3=float(input(\"enter x3\"))                      # input taken by user\n",
    "y3=float(input(\"enter y3\"))                      # input taken by user\n",
    "print((x1,y1),(x2,y2),(x3,y3))                   # using condition\n",
    "A= (x1*(y2-y3)+x2*(y3-y1)+x3*(y1-y2))\n",
    "if A==0:\n",
    "    print(\"given points are collinear\")           # bcz area of three colinear pts is 0 \n",
    "else:\n",
    "    print(\"they are not collinear\")"
   ]
  }
 ],
 "metadata": {
  "kernelspec": {
   "display_name": "Python 3",
   "language": "python",
   "name": "python3"
  },
  "language_info": {
   "codemirror_mode": {
    "name": "ipython",
    "version": 3
   },
   "file_extension": ".py",
   "mimetype": "text/x-python",
   "name": "python",
   "nbconvert_exporter": "python",
   "pygments_lexer": "ipython3",
   "version": "3.11.5"
  }
 },
 "nbformat": 4,
 "nbformat_minor": 2
}
