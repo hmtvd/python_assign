{
 "cells": [
  {
   "cell_type": "markdown",
   "metadata": {},
   "source": [
    "8. Given a quadratic equation with coefficients a, b and c, find the two solutions (may be real or complex). You should not take the square root of a negative number in your code."
   ]
  },
  {
   "cell_type": "code",
   "execution_count": 1,
   "metadata": {},
   "outputs": [
    {
     "name": "stdout",
     "output_type": "stream",
     "text": [
      "equation is 4.0 x^2+ 4.0 x+ 4.0 =0\n",
      "it has complex roots  real part is  -8.0 and imaginary part of the the roots is 13.856406460551018____"
     ]
    }
   ],
   "source": [
    "a=float(input(\"enter the coefficient of x square\"))                                                                        # input taken by user\n",
    "b=float(input(\"enter the coefficient of x\"))                                                                               # input taken by user\n",
    "c=float(input(\"enter the constant term\"))                                                                                  # input taken by user\n",
    "print(\"equation is\",a,\"x^2+\",b,\"x+\",c,\"=0\")                                                                                # using condition\n",
    "D=b**2-4*a*c\n",
    "D2=0-D\n",
    "real=-b/2*a\n",
    "img=(D2**0.5)/2*a\n",
    "if a!=0:\n",
    "    if D>=0:\n",
    "        print(\"roots of the equations are\", (-b+(D**(1/2)))/2*a, \"and\", (-b-(D**(1/2)))/2*a)                               # roots of the equation (-b+(D**(1/2)))/2*a, \"and\", (-b-(D**(1/2)))/2*a)\n",
    "    elif D<0:\n",
    "        print(\"it has complex roots \", \"real part is \", real,\"and imaginary part of the the roots is\",img,end=\"____\" )\n",
    "else:\n",
    "    print(\"only one root of the equation is\", -c/b) "
   ]
  },
  {
   "cell_type": "code",
   "execution_count": null,
   "metadata": {},
   "outputs": [],
   "source": []
  }
 ],
 "metadata": {
  "kernelspec": {
   "display_name": "Python 3",
   "language": "python",
   "name": "python3"
  },
  "language_info": {
   "codemirror_mode": {
    "name": "ipython",
    "version": 3
   },
   "file_extension": ".py",
   "mimetype": "text/x-python",
   "name": "python",
   "nbconvert_exporter": "python",
   "pygments_lexer": "ipython3",
   "version": "3.11.5"
  }
 },
 "nbformat": 4,
 "nbformat_minor": 2
}
