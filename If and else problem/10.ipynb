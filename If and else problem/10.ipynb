{
 "cells": [
  {
   "cell_type": "markdown",
   "metadata": {},
   "source": [
    "10. Given three integers, find the smallest one."
   ]
  },
  {
   "cell_type": "code",
   "execution_count": 1,
   "metadata": {},
   "outputs": [
    {
     "name": "stdout",
     "output_type": "stream",
     "text": [
      "5 7 3\n",
      "c is the smallest\n"
     ]
    }
   ],
   "source": [
    "a=int(input('a='))\n",
    "b=int(input('b='))\n",
    "c=int(input('c='))\n",
    "print(a,b,c)\n",
    "if a<b:\n",
    "    if a<c:\n",
    "        print('a is the smallest')\n",
    "    elif a==c:\n",
    "        print('both a and c are equal and smallest')    \n",
    "    else:\n",
    "        print('c is the smallest')\n",
    "elif a>b:\n",
    "    if b<c:\n",
    "        print('b is the smallest')\n",
    "    elif b==c:\n",
    "        print('both b and c are equal and smallest')    \n",
    "    else:\n",
    "        print('c is the smallest')                \n",
    "else:\n",
    "    if c<a:\n",
    "        print('c is the smallest')\n",
    "    elif c>a:\n",
    "        print('both a and b are equal and smallest')  \n",
    "    else:\n",
    "        print('all three numbers are equal')                # considering chances of being equal also"
   ]
  },
  {
   "cell_type": "code",
   "execution_count": null,
   "metadata": {},
   "outputs": [],
   "source": []
  }
 ],
 "metadata": {
  "kernelspec": {
   "display_name": "Python 3",
   "language": "python",
   "name": "python3"
  },
  "language_info": {
   "codemirror_mode": {
    "name": "ipython",
    "version": 3
   },
   "file_extension": ".py",
   "mimetype": "text/x-python",
   "name": "python",
   "nbconvert_exporter": "python",
   "pygments_lexer": "ipython3",
   "version": "3.11.5"
  }
 },
 "nbformat": 4,
 "nbformat_minor": 2
}
