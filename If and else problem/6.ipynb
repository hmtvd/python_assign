{
 "cells": [
  {
   "cell_type": "markdown",
   "metadata": {},
   "source": [
    "5. Given a point (x1, y1), find the quadrant in which this point lies"
   ]
  },
  {
   "cell_type": "code",
   "execution_count": 1,
   "metadata": {},
   "outputs": [
    {
     "name": "stdout",
     "output_type": "stream",
     "text": [
      "given point lies within first quadrant\n"
     ]
    }
   ],
   "source": [
    "x=int(input(\"enter x coordinate\"))                 # input taken by user\n",
    "y=int(input(\"enter y coordinate\"))                 # input taken by user\n",
    "if x>0:                                            # using condition\n",
    "    if y>0:\n",
    "        print(\"given point lies within first quadrant\")\n",
    "    elif y<0:\n",
    "        print(\"given point lies in fourth quadrant\")\n",
    "    else:\n",
    "        print(\"given point lies on x axis\")\n",
    "elif x<0:\n",
    "    if y>0:\n",
    "        print(\"given point lies within second quadrant\")\n",
    "    elif y<0:\n",
    "        print(\"given point lies in third quadrant\")\n",
    "    else:\n",
    "        print(\"given point lies on x axis\")\n",
    "else:\n",
    "    if y!=0:\n",
    "        print(\"given point lies on y axis \")\n",
    "    else:\n",
    "        print(\"given point is origin\")"
   ]
  },
  {
   "cell_type": "code",
   "execution_count": null,
   "metadata": {},
   "outputs": [],
   "source": []
  }
 ],
 "metadata": {
  "kernelspec": {
   "display_name": "Python 3",
   "language": "python",
   "name": "python3"
  },
  "language_info": {
   "codemirror_mode": {
    "name": "ipython",
    "version": 3
   },
   "file_extension": ".py",
   "mimetype": "text/x-python",
   "name": "python",
   "nbconvert_exporter": "python",
   "pygments_lexer": "ipython3",
   "version": "3.11.5"
  }
 },
 "nbformat": 4,
 "nbformat_minor": 2
}
