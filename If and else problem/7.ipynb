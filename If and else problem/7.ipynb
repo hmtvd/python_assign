{
 "cells": [
  {
   "cell_type": "markdown",
   "metadata": {},
   "source": [
    "7. Given two points (x1, y1) and (x2, y2), find the slope and intercept of the line joining these two points (the line may be perfectly horizontal or vertical)."
   ]
  },
  {
   "cell_type": "code",
   "execution_count": null,
   "metadata": {},
   "outputs": [],
   "source": [
    "x1=int(input(\"enter the 1st x coordinate\"))                 # input taken by user\n",
    "y1=int(input(\"enter the 1st y coordinate\"))                 # input taken by user\n",
    "x2=int(input(\"enter the 2nd x coordinate\"))                 # input taken by user\n",
    "y2=int(input(\"enter the 2nd y coordinate\"))                 # input taken by user\n",
    "if x2-x1!=0:                                                # using condition\n",
    "    slope=(y1-y2)/(x1-x2)\n",
    "    print(\"slope of line joining these points is \",slope)\n",
    "else:\n",
    "    print(\"slope of line joining these points is not defined\")"
   ]
  }
 ],
 "metadata": {
  "language_info": {
   "name": "python"
  }
 },
 "nbformat": 4,
 "nbformat_minor": 2
}
