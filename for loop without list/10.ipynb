{
 "cells": [
  {
   "cell_type": "markdown",
   "metadata": {},
   "source": [
    "10. Given a positive integer, convert it into binary, and vice-versa."
   ]
  },
  {
   "cell_type": "code",
   "execution_count": 1,
   "metadata": {},
   "outputs": [
    {
     "name": "stdout",
     "output_type": "stream",
     "text": [
      "binary of 678 is  1010100110\n"
     ]
    }
   ],
   "source": [
    "import math as m                                    # input taken by user\n",
    "deci=int(input(\"enter a positive integer\"))\n",
    "deci1=deci\n",
    "l=int(m.log2(deci))\n",
    "bi=0                                                \n",
    "for i in range(l+1):                                # use for loop\n",
    "    bi=bi+(deci%2)*(10**i)\n",
    "    deci=deci//2\n",
    "print(\"binary of\", deci1,\"is \",bi)"
   ]
  },
  {
   "cell_type": "code",
   "execution_count": null,
   "metadata": {},
   "outputs": [],
   "source": []
  }
 ],
 "metadata": {
  "kernelspec": {
   "display_name": "Python 3",
   "language": "python",
   "name": "python3"
  },
  "language_info": {
   "codemirror_mode": {
    "name": "ipython",
    "version": 3
   },
   "file_extension": ".py",
   "mimetype": "text/x-python",
   "name": "python",
   "nbconvert_exporter": "python",
   "pygments_lexer": "ipython3",
   "version": "3.11.5"
  }
 },
 "nbformat": 4,
 "nbformat_minor": 2
}
