{
 "cells": [
  {
   "cell_type": "markdown",
   "metadata": {},
   "source": [
    "4. Given a positive integer, find out if it’s prime or not."
   ]
  },
  {
   "cell_type": "code",
   "execution_count": 1,
   "metadata": {},
   "outputs": [
    {
     "name": "stdout",
     "output_type": "stream",
     "text": [
      "it's a prime number\n"
     ]
    }
   ],
   "source": [
    "num0=int(input(\"enter a positive integer greater than 1\"))\n",
    "a=0\n",
    "sqr=int(num0**0.5)\n",
    "if num0!=1:\n",
    "    for i in range(2,sqr+1):       # using for loop to find prime\n",
    "        if num0%i==0:\n",
    "            a=a+1\n",
    "    if a==0:\n",
    "        print(\"it's a prime number\")\n",
    "    else:\n",
    "        print(\"it's not a prime number \")\n",
    "else:\n",
    "    print(\"1 is neither prime nor composite\")"
   ]
  }
 ],
 "metadata": {
  "kernelspec": {
   "display_name": "Python 3",
   "language": "python",
   "name": "python3"
  },
  "language_info": {
   "codemirror_mode": {
    "name": "ipython",
    "version": 3
   },
   "file_extension": ".py",
   "mimetype": "text/x-python",
   "name": "python",
   "nbconvert_exporter": "python",
   "pygments_lexer": "ipython3",
   "version": "3.11.5"
  }
 },
 "nbformat": 4,
 "nbformat_minor": 2
}
