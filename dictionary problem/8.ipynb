{
 "cells": [
  {
   "cell_type": "markdown",
   "metadata": {},
   "source": [
    "8. Create a dictionary of your marks in various subjects and then sort it by its values first in descending order, and then in or ascending order. Do not use any inbuilt sorting functions."
   ]
  },
  {
   "cell_type": "code",
   "execution_count": 1,
   "metadata": {},
   "outputs": [
    {
     "name": "stdout",
     "output_type": "stream",
     "text": [
      "[29, 16]\n",
      "[29]\n",
      "[]\n",
      "{'English & Communication': 14.5, 'Python': 16, 'Linear Algebra': 29}\n"
     ]
    }
   ],
   "source": [
    "def least(lst):\n",
    "    n=lst[0]                # instesd of this function separately it can be written with the lines below as done for descending \n",
    "    for i in lst:\n",
    "        if n>=i:\n",
    "            n=i\n",
    "    return(n)        \n",
    "\n",
    "dict_marks={'Linear Algebra':29,'English & Communication':14.5,'Python': 16}\n",
    "lst=list(dict_marks.values())\n",
    "newdict={}\n",
    "for i in range(len(lst)):\n",
    "    for a,b in dict_marks.items():\n",
    "        if b==least(lst):\n",
    "            newdict[a]=b\n",
    "            lst.remove(least(lst))\n",
    "            print(lst)\n",
    "            break\n",
    "            \n",
    "print(newdict)"
   ]
  },
  {
   "cell_type": "code",
   "execution_count": null,
   "metadata": {},
   "outputs": [],
   "source": []
  }
 ],
 "metadata": {
  "kernelspec": {
   "display_name": "Python 3",
   "language": "python",
   "name": "python3"
  },
  "language_info": {
   "codemirror_mode": {
    "name": "ipython",
    "version": 3
   },
   "file_extension": ".py",
   "mimetype": "text/x-python",
   "name": "python",
   "nbconvert_exporter": "python",
   "pygments_lexer": "ipython3",
   "version": "3.11.5"
  }
 },
 "nbformat": 4,
 "nbformat_minor": 2
}
