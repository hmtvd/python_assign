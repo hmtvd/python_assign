{
 "cells": [
  {
   "cell_type": "markdown",
   "metadata": {},
   "source": [
    "9. Create a dictionary whose keys are the names of your family members and friends, and the values are the list of fruits they like to eat. Now if the user gives a fruit as input, the code should print the list of names who like this fruit. Write another code to print the list of people who do not like this fruit. Using this dictionary as input, write a code to make a consolidated list of all the fruit names present in the values of various keys. This list should not have any duplicate entries. Do not use the set() function."
   ]
  },
  {
   "cell_type": "code",
   "execution_count": 1,
   "metadata": {},
   "outputs": [
    {
     "name": "stdout",
     "output_type": "stream",
     "text": [
      "name of all who likes 12 are []\n",
      "name of all who  don't likes 12 are ['Rohit', 'Harsh', 'Vidhi', 'Sumit']\n"
     ]
    }
   ],
   "source": [
    "dict_fam={\"Rohit\":[\"Mango\",\"Grapes\",\"Guava\"],\"Harsh\":[\"Pineapple\",\"Mango\",\"Papaya\",\"Blackberry\"],\"Vidhi\":[\"Papaya\",\"Blackberry\",\"Banana\",\"Pomegranate\"],\"Sumit\":[\"Banana\",\"Grapes\",\"Pineapple\"]}\n",
    "fruit=input(\"enter the fruit name\")\n",
    "list_name=[]\n",
    "list_not=[]\n",
    "for a,b in dict_fam.items():\n",
    "    if fruit in b:\n",
    "        list_name.append(a)\n",
    "    else:\n",
    "        list_not.append(a)\n",
    "print(\"name of all who likes\", fruit,\"are\", list_name)\n",
    "print(\"name of all who  don't likes\", fruit,\"are\", list_not)"
   ]
  },
  {
   "cell_type": "code",
   "execution_count": null,
   "metadata": {},
   "outputs": [],
   "source": []
  }
 ],
 "metadata": {
  "kernelspec": {
   "display_name": "Python 3",
   "language": "python",
   "name": "python3"
  },
  "language_info": {
   "codemirror_mode": {
    "name": "ipython",
    "version": 3
   },
   "file_extension": ".py",
   "mimetype": "text/x-python",
   "name": "python",
   "nbconvert_exporter": "python",
   "pygments_lexer": "ipython3",
   "version": "3.11.5"
  }
 },
 "nbformat": 4,
 "nbformat_minor": 2
}
