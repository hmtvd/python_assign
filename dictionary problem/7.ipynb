{
 "cells": [
  {
   "cell_type": "markdown",
   "metadata": {},
   "source": [
    "7. Write a for loop to create another dictionary from the above where the marks are replaced by grades. Above 80 is A grade, 60–80 is B grade, 40–60 is C grade, and below 40 is F. Create another dictionary to store the max and average marks for each student. Use this dictionary to compute the final CPI/CGPA of the student. Course1 is of 4 credits, Course2 of 10 credits, and Course3 of 6 credits. Store these credits in a list. Write this dictionary as a json file, and read it back into a new dictionary."
   ]
  },
  {
   "cell_type": "code",
   "execution_count": 1,
   "metadata": {},
   "outputs": [
    {
     "name": "stdout",
     "output_type": "stream",
     "text": [
      "{'harsh': [80, 65, 47], 'manvendra': [30, 95, 51], 'ram': [82, 70, 64], 'saksham': [89, 92, 65], 'yash': [28, 78, 85]}\n",
      "{'harsh': ['B', 'B', 'C'], 'manvendra': ['F', 'A', 'C'], 'ram': ['A', 'B', 'B'], 'saksham': ['A', 'A', 'B'], 'yash': ['F', 'B', 'A']}\n"
     ]
    }
   ],
   "source": [
    "dictm={}\n",
    "dictm['harsh']=[80,65,47]\n",
    "dictm['manvendra']=[30,95,51]\n",
    "dictm['ram']=[82,70,64]\n",
    "dictm['saksham']=[89,92,65]\n",
    "dictm['yash']=[28,78,85]\n",
    "course_name=['maths','physics','chemistry']\n",
    "print(dictm)\n",
    "for a,b in dictm.items():\n",
    "    for c in range(len(b)):\n",
    "        if b[c] in range(81,101):\n",
    "            dictm[a][c]='A'\n",
    "        elif b[c] in range(61,81):\n",
    "            dictm[a][c]='B'\n",
    "        elif b[c] in range(41,61):\n",
    "            dictm[a][c]='C'\n",
    "        else:\n",
    "            dictm[a][c]='F'\n",
    "        \n",
    "print(dictm)"
   ]
  },
  {
   "cell_type": "code",
   "execution_count": null,
   "metadata": {},
   "outputs": [],
   "source": []
  }
 ],
 "metadata": {
  "kernelspec": {
   "display_name": "Python 3",
   "language": "python",
   "name": "python3"
  },
  "language_info": {
   "codemirror_mode": {
    "name": "ipython",
    "version": 3
   },
   "file_extension": ".py",
   "mimetype": "text/x-python",
   "name": "python",
   "nbconvert_exporter": "python",
   "pygments_lexer": "ipython3",
   "version": "3.11.5"
  }
 },
 "nbformat": 4,
 "nbformat_minor": 2
}
