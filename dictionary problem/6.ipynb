{
 "cells": [
  {
   "cell_type": "markdown",
   "metadata": {},
   "source": [
    "6. Create a dictionary to store the total marks of 5 students in the class in 3 subjects (Course1, Course2, Course3). The keys must be the student names, and the values must be the list of marks. Create another list which has the course names in the same order as the marks are stored in the dictionary values. Now write a nested for loop to print the marks for each student exam wise.\n",
    "Student1\n",
    "\n",
    "Course1 marks : 82\n",
    "\n",
    "Course2 marks : 91\n",
    "\n",
    "Course3 marks : 72\n",
    "\n",
    "Student2\n",
    "\n",
    "Course1 marks : 87\n",
    "\n",
    "Course2 marks : 83\n",
    "\n",
    "Course3 marks : 78"
   ]
  },
  {
   "cell_type": "code",
   "execution_count": 1,
   "metadata": {},
   "outputs": [
    {
     "name": "stdout",
     "output_type": "stream",
     "text": [
      "harsh\n",
      "maths : 80\n",
      "physics : 65\n",
      "chemistry : 47\n",
      "\n",
      "\n",
      "manvendra\n",
      "maths : 30\n",
      "physics : 95\n",
      "chemistry : 51\n",
      "\n",
      "\n",
      "ram\n",
      "maths : 82\n",
      "physics : 70\n",
      "chemistry : 64\n",
      "\n",
      "\n",
      "saksham\n",
      "maths : 89\n",
      "physics : 92\n",
      "chemistry : 65\n",
      "\n",
      "\n",
      "yash\n",
      "maths : 28\n",
      "physics : 78\n",
      "chemistry : 85\n",
      "\n",
      "\n"
     ]
    }
   ],
   "source": [
    "dictm={}\n",
    "dictm['harsh']=[80,65,47]\n",
    "dictm['manvendra']=[30,95,51]\n",
    "dictm['ram']=[82,70,64]\n",
    "dictm['saksham']=[89,92,65]\n",
    "dictm['yash']=[28,78,85]\n",
    "course_name=['maths','physics','chemistry']\n",
    "for a,b in dictm.items():\n",
    "    print(a)\n",
    "    for j in range(len(course_name)):\n",
    "        print(course_name[j],\":\",b[j])\n",
    "    print('\\n')"
   ]
  },
  {
   "cell_type": "code",
   "execution_count": null,
   "metadata": {},
   "outputs": [],
   "source": []
  }
 ],
 "metadata": {
  "kernelspec": {
   "display_name": "Python 3",
   "language": "python",
   "name": "python3"
  },
  "language_info": {
   "codemirror_mode": {
    "name": "ipython",
    "version": 3
   },
   "file_extension": ".py",
   "mimetype": "text/x-python",
   "name": "python",
   "nbconvert_exporter": "python",
   "pygments_lexer": "ipython3",
   "version": "3.11.5"
  }
 },
 "nbformat": 4,
 "nbformat_minor": 2
}
