{
 "cells": [
  {
   "cell_type": "markdown",
   "metadata": {},
   "source": [
    "3. Check if a key exists in a dictionary:\n",
    "sample_dict = {‘a’: 100, ‘b’: 200, ‘c’: 300} key_needed = ‘d’ Check if a value exists in a dictionary: sample_dict = {‘a’: 100, ‘b’: 200, ‘c’: 300} value_needed = 200"
   ]
  },
  {
   "cell_type": "code",
   "execution_count": 1,
   "metadata": {},
   "outputs": [
    {
     "name": "stdout",
     "output_type": "stream",
     "text": [
      "12\n",
      "given key is not present in the dictionary\n"
     ]
    }
   ],
   "source": [
    "sample_dict = {'a':100,'b':200,'c':300}\n",
    "key_needed=input(\"enter the key\")\n",
    "print(key_needed)\n",
    "l=sample_dict.keys()\n",
    "if key_needed in l:\n",
    "    print(\"given key is present in the dictionary\")\n",
    "else:\n",
    "    print(\"given key is not present in the dictionary\")"
   ]
  },
  {
   "cell_type": "code",
   "execution_count": null,
   "metadata": {},
   "outputs": [],
   "source": []
  }
 ],
 "metadata": {
  "kernelspec": {
   "display_name": "Python 3",
   "language": "python",
   "name": "python3"
  },
  "language_info": {
   "codemirror_mode": {
    "name": "ipython",
    "version": 3
   },
   "file_extension": ".py",
   "mimetype": "text/x-python",
   "name": "python",
   "nbconvert_exporter": "python",
   "pygments_lexer": "ipython3",
   "version": "3.11.5"
  }
 },
 "nbformat": 4,
 "nbformat_minor": 2
}
