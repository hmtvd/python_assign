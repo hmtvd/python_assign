{
 "cells": [
  {
   "cell_type": "markdown",
   "metadata": {},
   "source": [
    "2. Merge these two dictionaries into one using for loop\n",
    "dict1 = {‘Ten’: 10, ‘Twenty’: 20, ‘Thirty’: 30} dict2 = {‘Thirty’: 30, ‘Fourty’: 40, ‘Fifty’: 50}"
   ]
  },
  {
   "cell_type": "code",
   "execution_count": 1,
   "metadata": {},
   "outputs": [
    {
     "name": "stdout",
     "output_type": "stream",
     "text": [
      "{'Ten': 10, 'Twenty': 20, 'Thirty': 30, 'Fourty': 40, 'Fifty': 50}\n"
     ]
    }
   ],
   "source": [
    "dict1 = {\"Ten\": 10,\"Twenty\": 20,\"Thirty\": 30}\n",
    "dict2 = {\"Thirty\": 30,\"Fourty\": 40, \"Fifty\": 50}\n",
    "dict3={}\n",
    "for a,b in dict1.items():\n",
    "    dict3[a] = b\n",
    "for a,b in dict2.items():\n",
    "    dict3[a] = b\n",
    "print(dict3)"
   ]
  },
  {
   "cell_type": "code",
   "execution_count": null,
   "metadata": {},
   "outputs": [],
   "source": []
  }
 ],
 "metadata": {
  "kernelspec": {
   "display_name": "Python 3",
   "language": "python",
   "name": "python3"
  },
  "language_info": {
   "codemirror_mode": {
    "name": "ipython",
    "version": 3
   },
   "file_extension": ".py",
   "mimetype": "text/x-python",
   "name": "python",
   "nbconvert_exporter": "python",
   "pygments_lexer": "ipython3",
   "version": "3.11.5"
  }
 },
 "nbformat": 4,
 "nbformat_minor": 2
}
