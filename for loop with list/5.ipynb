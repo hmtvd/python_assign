{
 "cells": [
  {
   "cell_type": "markdown",
   "metadata": {},
   "source": [
    "5. Given a list of numbers, find all the even numbers in it."
   ]
  },
  {
   "cell_type": "code",
   "execution_count": 1,
   "metadata": {},
   "outputs": [
    {
     "name": "stdout",
     "output_type": "stream",
     "text": [
      "even numbers are  [42, 48, 34, 82, 26]\n"
     ]
    }
   ],
   "source": [
    "lst=[42,48,34,35,82,26]\n",
    "lst_even=[]                              # list_even list for even no.\n",
    "for i in lst:                            # use for loop\n",
    "    if i%2==0:\n",
    "        lst_even.append(i)\n",
    "print('even numbers are ', lst_even)"
   ]
  },
  {
   "cell_type": "code",
   "execution_count": null,
   "metadata": {},
   "outputs": [],
   "source": []
  }
 ],
 "metadata": {
  "kernelspec": {
   "display_name": "Python 3",
   "language": "python",
   "name": "python3"
  },
  "language_info": {
   "codemirror_mode": {
    "name": "ipython",
    "version": 3
   },
   "file_extension": ".py",
   "mimetype": "text/x-python",
   "name": "python",
   "nbconvert_exporter": "python",
   "pygments_lexer": "ipython3",
   "version": "3.11.5"
  }
 },
 "nbformat": 4,
 "nbformat_minor": 2
}
