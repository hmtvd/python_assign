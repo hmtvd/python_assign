{
 "cells": [
  {
   "cell_type": "markdown",
   "metadata": {},
   "source": [
    "4. Given a list of numbers, find out the mean and standard deviation."
   ]
  },
  {
   "cell_type": "code",
   "execution_count": 1,
   "metadata": {},
   "outputs": [
    {
     "name": "stdout",
     "output_type": "stream",
     "text": [
      "mean = 58.285714285714285\n",
      "standard deviation = 71.51765872988351\n"
     ]
    }
   ],
   "source": [
    "lst=[12,24,232,26,34,38,42]\n",
    "sum1=0\n",
    "l=len(lst)\n",
    "for i in lst:             # use for loop\n",
    "    sum1+=i\n",
    "m=sum1/l                  # m is mean\n",
    "u=0\n",
    "for i in lst:\n",
    "    u+=(i-m)**2\n",
    "std_dev=(u/l)**0.5\n",
    "print(\"mean =\", m)\n",
    "print(\"standard deviation =\", std_dev)"
   ]
  },
  {
   "cell_type": "code",
   "execution_count": null,
   "metadata": {},
   "outputs": [],
   "source": []
  }
 ],
 "metadata": {
  "kernelspec": {
   "display_name": "Python 3",
   "language": "python",
   "name": "python3"
  },
  "language_info": {
   "codemirror_mode": {
    "name": "ipython",
    "version": 3
   },
   "file_extension": ".py",
   "mimetype": "text/x-python",
   "name": "python",
   "nbconvert_exporter": "python",
   "pygments_lexer": "ipython3",
   "version": "3.11.5"
  }
 },
 "nbformat": 4,
 "nbformat_minor": 2
}
